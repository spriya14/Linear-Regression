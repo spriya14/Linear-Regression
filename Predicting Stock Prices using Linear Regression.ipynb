{
 "cells": [
  {
   "cell_type": "code",
   "execution_count": 2,
   "metadata": {},
   "outputs": [],
   "source": [
    "#  Import Dependencies\n",
    "\n",
    "import numpy as np\n",
    "import pandas as pd\n",
    "import matplotlib.pyplot as mlt"
   ]
  },
  {
   "cell_type": "code",
   "execution_count": 26,
   "metadata": {},
   "outputs": [],
   "source": [
    "#Reading Data \n",
    "\n",
    "df = pd.read_csv(r\"C:\\Users\\spriya1\\Documents\\sap_stock.csv\")"
   ]
  },
  {
   "cell_type": "code",
   "execution_count": 27,
   "metadata": {},
   "outputs": [
    {
     "data": {
      "text/html": [
       "<div>\n",
       "<style scoped>\n",
       "    .dataframe tbody tr th:only-of-type {\n",
       "        vertical-align: middle;\n",
       "    }\n",
       "\n",
       "    .dataframe tbody tr th {\n",
       "        vertical-align: top;\n",
       "    }\n",
       "\n",
       "    .dataframe thead th {\n",
       "        text-align: right;\n",
       "    }\n",
       "</style>\n",
       "<table border=\"1\" class=\"dataframe\">\n",
       "  <thead>\n",
       "    <tr style=\"text-align: right;\">\n",
       "      <th></th>\n",
       "      <th>Date</th>\n",
       "      <th>Open</th>\n",
       "      <th>High</th>\n",
       "      <th>Low</th>\n",
       "      <th>Close</th>\n",
       "      <th>Change</th>\n",
       "      <th>Traded Volume</th>\n",
       "      <th>Turnover</th>\n",
       "      <th>Last Price of the Day</th>\n",
       "      <th>Daily Traded Units</th>\n",
       "      <th>Daily Turnover</th>\n",
       "    </tr>\n",
       "  </thead>\n",
       "  <tbody>\n",
       "    <tr>\n",
       "      <th>0</th>\n",
       "      <td>2009-03-09</td>\n",
       "      <td>25.16</td>\n",
       "      <td>25.82</td>\n",
       "      <td>24.48</td>\n",
       "      <td>25.59</td>\n",
       "      <td>NaN</td>\n",
       "      <td>5749357.0</td>\n",
       "      <td>145200289.0</td>\n",
       "      <td>NaN</td>\n",
       "      <td>NaN</td>\n",
       "      <td>NaN</td>\n",
       "    </tr>\n",
       "    <tr>\n",
       "      <th>1</th>\n",
       "      <td>2009-03-10</td>\n",
       "      <td>25.68</td>\n",
       "      <td>26.95</td>\n",
       "      <td>25.68</td>\n",
       "      <td>26.87</td>\n",
       "      <td>NaN</td>\n",
       "      <td>7507770.0</td>\n",
       "      <td>198480965.0</td>\n",
       "      <td>NaN</td>\n",
       "      <td>NaN</td>\n",
       "      <td>NaN</td>\n",
       "    </tr>\n",
       "    <tr>\n",
       "      <th>2</th>\n",
       "      <td>2009-03-11</td>\n",
       "      <td>26.50</td>\n",
       "      <td>26.95</td>\n",
       "      <td>26.26</td>\n",
       "      <td>26.64</td>\n",
       "      <td>NaN</td>\n",
       "      <td>5855095.0</td>\n",
       "      <td>155815439.0</td>\n",
       "      <td>NaN</td>\n",
       "      <td>NaN</td>\n",
       "      <td>NaN</td>\n",
       "    </tr>\n",
       "    <tr>\n",
       "      <th>3</th>\n",
       "      <td>2009-03-12</td>\n",
       "      <td>26.15</td>\n",
       "      <td>26.47</td>\n",
       "      <td>25.82</td>\n",
       "      <td>26.18</td>\n",
       "      <td>NaN</td>\n",
       "      <td>6294955.0</td>\n",
       "      <td>164489409.0</td>\n",
       "      <td>NaN</td>\n",
       "      <td>NaN</td>\n",
       "      <td>NaN</td>\n",
       "    </tr>\n",
       "    <tr>\n",
       "      <th>4</th>\n",
       "      <td>2009-03-13</td>\n",
       "      <td>26.01</td>\n",
       "      <td>26.24</td>\n",
       "      <td>25.65</td>\n",
       "      <td>25.73</td>\n",
       "      <td>NaN</td>\n",
       "      <td>6814568.0</td>\n",
       "      <td>176228331.0</td>\n",
       "      <td>NaN</td>\n",
       "      <td>NaN</td>\n",
       "      <td>NaN</td>\n",
       "    </tr>\n",
       "    <tr>\n",
       "      <th>5</th>\n",
       "      <td>2009-03-16</td>\n",
       "      <td>26.22</td>\n",
       "      <td>26.66</td>\n",
       "      <td>25.94</td>\n",
       "      <td>26.48</td>\n",
       "      <td>NaN</td>\n",
       "      <td>5248247.0</td>\n",
       "      <td>138331071.0</td>\n",
       "      <td>NaN</td>\n",
       "      <td>NaN</td>\n",
       "      <td>NaN</td>\n",
       "    </tr>\n",
       "    <tr>\n",
       "      <th>6</th>\n",
       "      <td>2009-03-17</td>\n",
       "      <td>26.39</td>\n",
       "      <td>26.49</td>\n",
       "      <td>25.97</td>\n",
       "      <td>26.33</td>\n",
       "      <td>NaN</td>\n",
       "      <td>4760668.0</td>\n",
       "      <td>124859126.0</td>\n",
       "      <td>NaN</td>\n",
       "      <td>NaN</td>\n",
       "      <td>NaN</td>\n",
       "    </tr>\n",
       "    <tr>\n",
       "      <th>7</th>\n",
       "      <td>2009-03-18</td>\n",
       "      <td>26.86</td>\n",
       "      <td>27.00</td>\n",
       "      <td>26.34</td>\n",
       "      <td>26.87</td>\n",
       "      <td>NaN</td>\n",
       "      <td>4798820.0</td>\n",
       "      <td>128336388.0</td>\n",
       "      <td>NaN</td>\n",
       "      <td>NaN</td>\n",
       "      <td>NaN</td>\n",
       "    </tr>\n",
       "    <tr>\n",
       "      <th>8</th>\n",
       "      <td>2009-03-19</td>\n",
       "      <td>27.50</td>\n",
       "      <td>27.99</td>\n",
       "      <td>27.38</td>\n",
       "      <td>27.63</td>\n",
       "      <td>NaN</td>\n",
       "      <td>10124086.0</td>\n",
       "      <td>279853201.0</td>\n",
       "      <td>NaN</td>\n",
       "      <td>NaN</td>\n",
       "      <td>NaN</td>\n",
       "    </tr>\n",
       "    <tr>\n",
       "      <th>9</th>\n",
       "      <td>2009-03-20</td>\n",
       "      <td>27.70</td>\n",
       "      <td>27.90</td>\n",
       "      <td>27.12</td>\n",
       "      <td>27.43</td>\n",
       "      <td>NaN</td>\n",
       "      <td>7357799.0</td>\n",
       "      <td>201942703.0</td>\n",
       "      <td>NaN</td>\n",
       "      <td>NaN</td>\n",
       "      <td>NaN</td>\n",
       "    </tr>\n",
       "  </tbody>\n",
       "</table>\n",
       "</div>"
      ],
      "text/plain": [
       "         Date   Open   High    Low  Close  Change  Traded Volume     Turnover  \\\n",
       "0  2009-03-09  25.16  25.82  24.48  25.59     NaN      5749357.0  145200289.0   \n",
       "1  2009-03-10  25.68  26.95  25.68  26.87     NaN      7507770.0  198480965.0   \n",
       "2  2009-03-11  26.50  26.95  26.26  26.64     NaN      5855095.0  155815439.0   \n",
       "3  2009-03-12  26.15  26.47  25.82  26.18     NaN      6294955.0  164489409.0   \n",
       "4  2009-03-13  26.01  26.24  25.65  25.73     NaN      6814568.0  176228331.0   \n",
       "5  2009-03-16  26.22  26.66  25.94  26.48     NaN      5248247.0  138331071.0   \n",
       "6  2009-03-17  26.39  26.49  25.97  26.33     NaN      4760668.0  124859126.0   \n",
       "7  2009-03-18  26.86  27.00  26.34  26.87     NaN      4798820.0  128336388.0   \n",
       "8  2009-03-19  27.50  27.99  27.38  27.63     NaN     10124086.0  279853201.0   \n",
       "9  2009-03-20  27.70  27.90  27.12  27.43     NaN      7357799.0  201942703.0   \n",
       "\n",
       "   Last Price of the Day  Daily Traded Units  Daily Turnover  \n",
       "0                    NaN                 NaN             NaN  \n",
       "1                    NaN                 NaN             NaN  \n",
       "2                    NaN                 NaN             NaN  \n",
       "3                    NaN                 NaN             NaN  \n",
       "4                    NaN                 NaN             NaN  \n",
       "5                    NaN                 NaN             NaN  \n",
       "6                    NaN                 NaN             NaN  \n",
       "7                    NaN                 NaN             NaN  \n",
       "8                    NaN                 NaN             NaN  \n",
       "9                    NaN                 NaN             NaN  "
      ]
     },
     "execution_count": 27,
     "metadata": {},
     "output_type": "execute_result"
    }
   ],
   "source": [
    "df.head(10)"
   ]
  },
  {
   "cell_type": "code",
   "execution_count": 28,
   "metadata": {},
   "outputs": [
    {
     "name": "stdout",
     "output_type": "stream",
     "text": [
      "<class 'pandas.core.frame.DataFrame'>\n",
      "RangeIndex: 2550 entries, 0 to 2549\n",
      "Data columns (total 11 columns):\n",
      "Date                     2550 non-null object\n",
      "Open                     2242 non-null float64\n",
      "High                     2543 non-null float64\n",
      "Low                      2543 non-null float64\n",
      "Close                    2550 non-null float64\n",
      "Change                   11 non-null float64\n",
      "Traded Volume            2504 non-null float64\n",
      "Turnover                 2497 non-null float64\n",
      "Last Price of the Day    0 non-null float64\n",
      "Daily Traded Units       0 non-null float64\n",
      "Daily Turnover           7 non-null float64\n",
      "dtypes: float64(10), object(1)\n",
      "memory usage: 219.2+ KB\n"
     ]
    }
   ],
   "source": [
    "#Checking dataTypes in columns\n",
    "df.info()"
   ]
  },
  {
   "cell_type": "code",
   "execution_count": 29,
   "metadata": {},
   "outputs": [
    {
     "data": {
      "text/html": [
       "<div>\n",
       "<style scoped>\n",
       "    .dataframe tbody tr th:only-of-type {\n",
       "        vertical-align: middle;\n",
       "    }\n",
       "\n",
       "    .dataframe tbody tr th {\n",
       "        vertical-align: top;\n",
       "    }\n",
       "\n",
       "    .dataframe thead th {\n",
       "        text-align: right;\n",
       "    }\n",
       "</style>\n",
       "<table border=\"1\" class=\"dataframe\">\n",
       "  <thead>\n",
       "    <tr style=\"text-align: right;\">\n",
       "      <th></th>\n",
       "      <th>Open</th>\n",
       "      <th>High</th>\n",
       "      <th>Low</th>\n",
       "      <th>Close</th>\n",
       "      <th>Change</th>\n",
       "      <th>Traded Volume</th>\n",
       "      <th>Turnover</th>\n",
       "      <th>Last Price of the Day</th>\n",
       "      <th>Daily Traded Units</th>\n",
       "      <th>Daily Turnover</th>\n",
       "    </tr>\n",
       "  </thead>\n",
       "  <tbody>\n",
       "    <tr>\n",
       "      <th>count</th>\n",
       "      <td>2242.000000</td>\n",
       "      <td>2543.000000</td>\n",
       "      <td>2543.000000</td>\n",
       "      <td>2550.000000</td>\n",
       "      <td>11.000000</td>\n",
       "      <td>2.504000e+03</td>\n",
       "      <td>2.497000e+03</td>\n",
       "      <td>0.0</td>\n",
       "      <td>0.0</td>\n",
       "      <td>7.0</td>\n",
       "    </tr>\n",
       "    <tr>\n",
       "      <th>mean</th>\n",
       "      <td>56.686896</td>\n",
       "      <td>61.563225</td>\n",
       "      <td>60.535073</td>\n",
       "      <td>60.995955</td>\n",
       "      <td>-0.070000</td>\n",
       "      <td>3.296818e+06</td>\n",
       "      <td>1.828440e+08</td>\n",
       "      <td>NaN</td>\n",
       "      <td>NaN</td>\n",
       "      <td>0.0</td>\n",
       "    </tr>\n",
       "    <tr>\n",
       "      <th>std</th>\n",
       "      <td>18.320821</td>\n",
       "      <td>21.184135</td>\n",
       "      <td>20.934460</td>\n",
       "      <td>21.097480</td>\n",
       "      <td>0.709761</td>\n",
       "      <td>2.004323e+06</td>\n",
       "      <td>9.350710e+07</td>\n",
       "      <td>NaN</td>\n",
       "      <td>NaN</td>\n",
       "      <td>0.0</td>\n",
       "    </tr>\n",
       "    <tr>\n",
       "      <th>min</th>\n",
       "      <td>25.160000</td>\n",
       "      <td>25.820000</td>\n",
       "      <td>24.480000</td>\n",
       "      <td>25.590000</td>\n",
       "      <td>-0.740000</td>\n",
       "      <td>0.000000e+00</td>\n",
       "      <td>1.767350e+05</td>\n",
       "      <td>NaN</td>\n",
       "      <td>NaN</td>\n",
       "      <td>0.0</td>\n",
       "    </tr>\n",
       "    <tr>\n",
       "      <th>25%</th>\n",
       "      <td>41.500000</td>\n",
       "      <td>43.430000</td>\n",
       "      <td>42.590000</td>\n",
       "      <td>42.950000</td>\n",
       "      <td>-0.500000</td>\n",
       "      <td>2.131686e+06</td>\n",
       "      <td>1.300462e+08</td>\n",
       "      <td>NaN</td>\n",
       "      <td>NaN</td>\n",
       "      <td>0.0</td>\n",
       "    </tr>\n",
       "    <tr>\n",
       "      <th>50%</th>\n",
       "      <td>56.560000</td>\n",
       "      <td>58.480000</td>\n",
       "      <td>57.580000</td>\n",
       "      <td>58.015000</td>\n",
       "      <td>-0.290000</td>\n",
       "      <td>2.852772e+06</td>\n",
       "      <td>1.626544e+08</td>\n",
       "      <td>NaN</td>\n",
       "      <td>NaN</td>\n",
       "      <td>0.0</td>\n",
       "    </tr>\n",
       "    <tr>\n",
       "      <th>75%</th>\n",
       "      <td>67.732500</td>\n",
       "      <td>78.365000</td>\n",
       "      <td>77.085000</td>\n",
       "      <td>77.762500</td>\n",
       "      <td>0.085000</td>\n",
       "      <td>3.878528e+06</td>\n",
       "      <td>2.104511e+08</td>\n",
       "      <td>NaN</td>\n",
       "      <td>NaN</td>\n",
       "      <td>0.0</td>\n",
       "    </tr>\n",
       "    <tr>\n",
       "      <th>max</th>\n",
       "      <td>100.100000</td>\n",
       "      <td>108.520000</td>\n",
       "      <td>107.020000</td>\n",
       "      <td>107.800000</td>\n",
       "      <td>1.250000</td>\n",
       "      <td>3.645671e+07</td>\n",
       "      <td>1.369431e+09</td>\n",
       "      <td>NaN</td>\n",
       "      <td>NaN</td>\n",
       "      <td>0.0</td>\n",
       "    </tr>\n",
       "  </tbody>\n",
       "</table>\n",
       "</div>"
      ],
      "text/plain": [
       "              Open         High          Low        Close     Change  \\\n",
       "count  2242.000000  2543.000000  2543.000000  2550.000000  11.000000   \n",
       "mean     56.686896    61.563225    60.535073    60.995955  -0.070000   \n",
       "std      18.320821    21.184135    20.934460    21.097480   0.709761   \n",
       "min      25.160000    25.820000    24.480000    25.590000  -0.740000   \n",
       "25%      41.500000    43.430000    42.590000    42.950000  -0.500000   \n",
       "50%      56.560000    58.480000    57.580000    58.015000  -0.290000   \n",
       "75%      67.732500    78.365000    77.085000    77.762500   0.085000   \n",
       "max     100.100000   108.520000   107.020000   107.800000   1.250000   \n",
       "\n",
       "       Traded Volume      Turnover  Last Price of the Day  Daily Traded Units  \\\n",
       "count   2.504000e+03  2.497000e+03                    0.0                 0.0   \n",
       "mean    3.296818e+06  1.828440e+08                    NaN                 NaN   \n",
       "std     2.004323e+06  9.350710e+07                    NaN                 NaN   \n",
       "min     0.000000e+00  1.767350e+05                    NaN                 NaN   \n",
       "25%     2.131686e+06  1.300462e+08                    NaN                 NaN   \n",
       "50%     2.852772e+06  1.626544e+08                    NaN                 NaN   \n",
       "75%     3.878528e+06  2.104511e+08                    NaN                 NaN   \n",
       "max     3.645671e+07  1.369431e+09                    NaN                 NaN   \n",
       "\n",
       "       Daily Turnover  \n",
       "count             7.0  \n",
       "mean              0.0  \n",
       "std               0.0  \n",
       "min               0.0  \n",
       "25%               0.0  \n",
       "50%               0.0  \n",
       "75%               0.0  \n",
       "max               0.0  "
      ]
     },
     "execution_count": 29,
     "metadata": {},
     "output_type": "execute_result"
    }
   ],
   "source": [
    "##Descriptive statistics summary from datasets..\n",
    "df.describe()"
   ]
  },
  {
   "cell_type": "code",
   "execution_count": 30,
   "metadata": {},
   "outputs": [
    {
     "data": {
      "text/plain": [
       "Index(['Date', 'Open', 'High', 'Low', 'Close', 'Change', 'Traded Volume',\n",
       "       'Turnover', 'Last Price of the Day', 'Daily Traded Units',\n",
       "       'Daily Turnover'],\n",
       "      dtype='object')"
      ]
     },
     "execution_count": 30,
     "metadata": {},
     "output_type": "execute_result"
    }
   ],
   "source": [
    "#Display Features in data sets\n",
    "df.columns"
   ]
  },
  {
   "cell_type": "markdown",
   "metadata": {},
   "source": [
    "Select Subset with relevant features\n",
    "\n",
    "We use the daily closing prices \"CLOSE\" to predict the values \n",
    "'close' column has numerical data types.\n",
    "\n",
    "\n"
   ]
  },
  {
   "cell_type": "code",
   "execution_count": 42,
   "metadata": {},
   "outputs": [],
   "source": [
    "df1 = pd.DataFrame(df, columns=['Date','Close'])\n",
    "\n",
    "#Resetting index column so that we have integers to represent time for later analysis \n"
   ]
  },
  {
   "cell_type": "code",
   "execution_count": 43,
   "metadata": {},
   "outputs": [
    {
     "data": {
      "text/html": [
       "<div>\n",
       "<style scoped>\n",
       "    .dataframe tbody tr th:only-of-type {\n",
       "        vertical-align: middle;\n",
       "    }\n",
       "\n",
       "    .dataframe tbody tr th {\n",
       "        vertical-align: top;\n",
       "    }\n",
       "\n",
       "    .dataframe thead th {\n",
       "        text-align: right;\n",
       "    }\n",
       "</style>\n",
       "<table border=\"1\" class=\"dataframe\">\n",
       "  <thead>\n",
       "    <tr style=\"text-align: right;\">\n",
       "      <th></th>\n",
       "      <th>Date</th>\n",
       "      <th>Close</th>\n",
       "    </tr>\n",
       "  </thead>\n",
       "  <tbody>\n",
       "    <tr>\n",
       "      <th>0</th>\n",
       "      <td>2009-03-09</td>\n",
       "      <td>25.59</td>\n",
       "    </tr>\n",
       "    <tr>\n",
       "      <th>1</th>\n",
       "      <td>2009-03-10</td>\n",
       "      <td>26.87</td>\n",
       "    </tr>\n",
       "    <tr>\n",
       "      <th>2</th>\n",
       "      <td>2009-03-11</td>\n",
       "      <td>26.64</td>\n",
       "    </tr>\n",
       "    <tr>\n",
       "      <th>3</th>\n",
       "      <td>2009-03-12</td>\n",
       "      <td>26.18</td>\n",
       "    </tr>\n",
       "    <tr>\n",
       "      <th>4</th>\n",
       "      <td>2009-03-13</td>\n",
       "      <td>25.73</td>\n",
       "    </tr>\n",
       "  </tbody>\n",
       "</table>\n",
       "</div>"
      ],
      "text/plain": [
       "         Date  Close\n",
       "0  2009-03-09  25.59\n",
       "1  2009-03-10  26.87\n",
       "2  2009-03-11  26.64\n",
       "3  2009-03-12  26.18\n",
       "4  2009-03-13  25.73"
      ]
     },
     "execution_count": 43,
     "metadata": {},
     "output_type": "execute_result"
    }
   ],
   "source": [
    "df1.head()"
   ]
  },
  {
   "cell_type": "code",
   "execution_count": 44,
   "metadata": {},
   "outputs": [
    {
     "name": "stdout",
     "output_type": "stream",
     "text": [
      "<class 'pandas.core.frame.DataFrame'>\n",
      "RangeIndex: 2550 entries, 0 to 2549\n",
      "Data columns (total 2 columns):\n",
      "Date     2550 non-null object\n",
      "Close    2550 non-null float64\n",
      "dtypes: float64(1), object(1)\n",
      "memory usage: 39.9+ KB\n"
     ]
    }
   ],
   "source": [
    "df1.info()"
   ]
  },
  {
   "cell_type": "code",
   "execution_count": 47,
   "metadata": {},
   "outputs": [
    {
     "data": {
      "text/plain": [
       "False"
      ]
     },
     "execution_count": 47,
     "metadata": {},
     "output_type": "execute_result"
    }
   ],
   "source": [
    "#Check for missing values in the column\n",
    "df1.isna().values.any()"
   ]
  },
  {
   "cell_type": "markdown",
   "metadata": {},
   "source": [
    "Exploring the data by simply plotting Closing Price vs Time.\n"
   ]
  },
  {
   "cell_type": "code",
   "execution_count": 85,
   "metadata": {},
   "outputs": [
    {
     "data": {
      "image/png": "[encoded data removed]",
      "text/plain": [
       "<Figure size 432x288 with 1 Axes>"
      ]
     },
     "metadata": {
      "needs_background": "light"
     },
     "output_type": "display_data"
    }
   ],
   "source": [
    "import matplotlib.dates as mdates\n",
    "\n",
    "years = mdates.YearLocator() # Get every year\n",
    "yearsFmt = mdates.DateFormatter('%Y') # Set year format\n",
    "\n",
    "fig, ax = mlt.subplots()\n",
    "ax.plot(df['Date'],df['Close'])\n",
    "\n",
    "#Formatting the Ticks\n",
    "#Ticks are basically the partitions that we see in the y-axis...\n",
    "\n",
    "\n",
    "ax.xaxis.set_major_locator(years)\n",
    "ax.xaxis.set_major_formatter(yearsFmt)\n",
    "\n",
    "mlt.title(\"Close Stock price History [2009-2019]\", fontsize = 14)\n",
    "mlt.xlabel('Date', fontsize=12)\n",
    "mlt.ylabel('Closing Stock Price in Dollar', fontsize=12)\n",
    "\n",
    "# Show plot\n",
    "mlt.show()\n"
   ]
  },
  {
   "cell_type": "markdown",
   "metadata": {},
   "source": [
    "\n",
    "Applying Linear Regression \n"
   ]
  },
  {
   "cell_type": "markdown",
   "metadata": {},
   "source": [
    "Date - Indepenent Variable \n",
    "Stock Prices - dependent variable that we have to predict .\n",
    "\n",
    "So we need to find a best fit line for the data points for Date and Stock prices.\n"
   ]
  },
  {
   "cell_type": "code",
   "execution_count": 87,
   "metadata": {},
   "outputs": [],
   "source": [
    "#defining test and train data \n",
    "from sklearn.model_selection import train_test_split\n",
    "#splitting the data in train and test : 80 % , 20%\n",
    "\n",
    "\n",
    "train,test = train_test_split(df, test_size = 20)\n"
   ]
  },
  {
   "cell_type": "markdown",
   "metadata": {},
   "source": [
    "\n",
    "### Creating and Training the Model"
   ]
  },
  {
   "cell_type": "code",
   "execution_count": 94,
   "metadata": {},
   "outputs": [],
   "source": [
    "#importing package for Linear Model\n",
    "from sklearn.linear_model import LinearRegression\n",
    "\n",
    "X_train = np.array(train.index).reshape(-1,1)\n",
    "Y_train = train['Close']"
   ]
  },
  {
   "cell_type": "code",
   "execution_count": 95,
   "metadata": {},
   "outputs": [
    {
     "data": {
      "text/plain": [
       "LinearRegression(copy_X=True, fit_intercept=True, n_jobs=None,\n",
       "         normalize=False)"
      ]
     },
     "execution_count": 95,
     "metadata": {},
     "output_type": "execute_result"
    }
   ],
   "source": [
    "model = LinearRegression()\n",
    "model.fit(X_train, Y_train)"
   ]
  },
  {
   "cell_type": "markdown",
   "metadata": {},
   "source": [
    "### Model Evaluation"
   ]
  },
  {
   "cell_type": "code",
   "execution_count": 97,
   "metadata": {},
   "outputs": [
    {
     "name": "stdout",
     "output_type": "stream",
     "text": [
      "Slope: 0.02770962909378635\n",
      "Intercept: 25.682222330219354\n"
     ]
    }
   ],
   "source": [
    "print('Slope:' ,np.asscalar(np.squeeze(model.coef_)))\n",
    "print('Intercept:',model.intercept_)"
   ]
  },
  {
   "cell_type": "code",
   "execution_count": 131,
   "metadata": {},
   "outputs": [
    {
     "data": {
      "image/png": "[encoded data removed]",
      "text/plain": [
       "<Figure size 432x288 with 1 Axes>"
      ]
     },
     "metadata": {
      "needs_background": "light"
     },
     "output_type": "display_data"
    }
   ],
   "source": [
    "#Train Set Graph\n",
    "\n",
    "\n",
    "mlt.scatter(X_train,Y_train,edgecolor = 'w',label = 'Actual Price')\n",
    "mlt.plot(X_train,model.predict(X_train),color = 'r',label = 'Predicted Price',)\n",
    "mlt.xlabel(\"Integer Date\")\n",
    "mlt.ylabel(\"Stock Price\")\n",
    "mlt.legend()\n",
    "mlt.show()"
   ]
  },
  {
   "cell_type": "code",
   "execution_count": 110,
   "metadata": {},
   "outputs": [],
   "source": [
    "#Prediction of model\n",
    "\n",
    "X_test = np.array(test.index).reshape(-1,1)\n",
    "Y_test = test['Close']\n",
    "\n",
    "Y_predict = model.predict(X_test)\n",
    "\n",
    "\n"
   ]
  },
  {
   "cell_type": "code",
   "execution_count": 113,
   "metadata": {},
   "outputs": [
    {
     "data": {
      "text/plain": [
       "(2550, 2)"
      ]
     },
     "execution_count": 113,
     "metadata": {},
     "output_type": "execute_result"
    }
   ],
   "source": [
    "df1.shape"
   ]
  },
  {
   "cell_type": "code",
   "execution_count": 119,
   "metadata": {},
   "outputs": [],
   "source": [
    "randints = np.random.randint(2550,size = 25)\n",
    "df1['Predictions'] = model.predict(np.array(df.index).reshape(-1,1))\n",
    "df1_sample = df1[df1.index.isin(randints)]\n",
    "\n"
   ]
  },
  {
   "cell_type": "code",
   "execution_count": 120,
   "metadata": {},
   "outputs": [
    {
     "data": {
      "text/html": [
       "<div>\n",
       "<style scoped>\n",
       "    .dataframe tbody tr th:only-of-type {\n",
       "        vertical-align: middle;\n",
       "    }\n",
       "\n",
       "    .dataframe tbody tr th {\n",
       "        vertical-align: top;\n",
       "    }\n",
       "\n",
       "    .dataframe thead th {\n",
       "        text-align: right;\n",
       "    }\n",
       "</style>\n",
       "<table border=\"1\" class=\"dataframe\">\n",
       "  <thead>\n",
       "    <tr style=\"text-align: right;\">\n",
       "      <th></th>\n",
       "      <th>Date</th>\n",
       "      <th>Close</th>\n",
       "      <th>Predictions</th>\n",
       "    </tr>\n",
       "  </thead>\n",
       "  <tbody>\n",
       "    <tr>\n",
       "      <th>10</th>\n",
       "      <td>2009-03-23</td>\n",
       "      <td>27.22</td>\n",
       "      <td>25.959319</td>\n",
       "    </tr>\n",
       "    <tr>\n",
       "      <th>35</th>\n",
       "      <td>2009-04-27</td>\n",
       "      <td>30.95</td>\n",
       "      <td>26.652059</td>\n",
       "    </tr>\n",
       "    <tr>\n",
       "      <th>71</th>\n",
       "      <td>2009-06-16</td>\n",
       "      <td>29.07</td>\n",
       "      <td>27.649606</td>\n",
       "    </tr>\n",
       "    <tr>\n",
       "      <th>196</th>\n",
       "      <td>2009-12-08</td>\n",
       "      <td>30.42</td>\n",
       "      <td>31.113310</td>\n",
       "    </tr>\n",
       "    <tr>\n",
       "      <th>233</th>\n",
       "      <td>2010-01-28</td>\n",
       "      <td>32.18</td>\n",
       "      <td>32.138566</td>\n",
       "    </tr>\n",
       "  </tbody>\n",
       "</table>\n",
       "</div>"
      ],
      "text/plain": [
       "           Date  Close  Predictions\n",
       "10   2009-03-23  27.22    25.959319\n",
       "35   2009-04-27  30.95    26.652059\n",
       "71   2009-06-16  29.07    27.649606\n",
       "196  2009-12-08  30.42    31.113310\n",
       "233  2010-01-28  32.18    32.138566"
      ]
     },
     "execution_count": 120,
     "metadata": {},
     "output_type": "execute_result"
    }
   ],
   "source": [
    "df1_sample.head()"
   ]
  },
  {
   "cell_type": "code",
   "execution_count": 136,
   "metadata": {},
   "outputs": [
    {
     "data": {
      "image/png": "[encoded data removed]",
      "text/plain": [
       "<Figure size 936x576 with 1 Axes>"
      ]
     },
     "metadata": {
      "needs_background": "light"
     },
     "output_type": "display_data"
    }
   ],
   "source": [
    "#Creating subplots to plot graph and Control axes.\n",
    "\n",
    "fig,ax = mlt.subplots()\n",
    "df1_sample.plot(x= 'Date', y = ['Close','Predictions'], kind = 'bar',ax=ax,figsize=(13,8))\n",
    "# Set figure title\n",
    "mlt.title('Comparison Predicted vs Actual Price in Sample data selection', fontsize=16)\n",
    "\n",
    "# \n",
    "\n",
    "# Set x label\n",
    "mlt.xlabel('Date', fontsize=14)\n",
    "\n",
    "# Set y label\n",
    "mlt.ylabel('Stock Price in $', fontsize=14)\n",
    "\n",
    "# Show plot\n",
    "mlt.show()"
   ]
  },
  {
   "cell_type": "code",
   "execution_count": null,
   "metadata": {},
   "outputs": [],
   "source": []
  }
 ],
 "metadata": {
  "kernelspec": {
   "display_name": "Python 3",
   "language": "python",
   "name": "python3"
  },
  "language_info": {
   "codemirror_mode": {
    "name": "ipython",
    "version": 3
   },
   "file_extension": ".py",
   "mimetype": "text/x-python",
   "name": "python",
   "nbconvert_exporter": "python",
   "pygments_lexer": "ipython3",
   "version": "3.7.1"
  }
 },
 "nbformat": 4,
 "nbformat_minor": 2
}
